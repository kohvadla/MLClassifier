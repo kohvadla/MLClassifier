{
 "cells": [
  {
   "cell_type": "markdown",
   "metadata": {},
   "source": [
    "<tr>\n",
    "    <td> <img src=images/ATLAS-Logo-Ref-RGB.eps width=200> <td/>\n",
    "    <td> <img src=https://upload.wikimedia.org/wikipedia/commons/thumb/0/05/Scikit_learn_logo_small.svg/520px-Scikit_learn_logo_small.svg.png style=\"border:0px;margin:10px;float:left;width:150px;\"> <td/>\n",
    "    <td> <img src=https://s3.amazonaws.com/keras.io/img/keras-logo-2018-large-1200.png style=\"border:0px;margin:0px;float:left;width:150px;\"> <td/>\n",
    "    <td> <img src=images/TensorFlow.png width=150> <td/>\n",
    "<tr/>"
   ]
  },
  {
   "cell_type": "markdown",
   "metadata": {},
   "source": [
    "# Session startup\n",
    "In order to view plots in output cells on first execution in a session, run:"
   ]
  },
  {
   "cell_type": "code",
   "execution_count": null,
   "metadata": {
    "init_cell": true,
    "scrolled": true
   },
   "outputs": [],
   "source": [
    "%matplotlib inline\n",
    "import datetime\n",
    "print(\"Initialization done\", datetime.datetime.now().strftime('%H:%M:%S'))"
   ]
  },
  {
   "cell_type": "markdown",
   "metadata": {},
   "source": [
    "# Train classifiers\n",
    "\n",
    "Read pandas DataFrame from HDF5 file and do grid search for hyperparameters using k-fold cross-validation.\n",
    "Finally, train the classifier with the optimal hyperparameters.\n",
    "\n",
    "## SR-low"
   ]
  },
  {
   "cell_type": "code",
   "execution_count": null,
   "metadata": {
    "scrolled": true
   },
   "outputs": [],
   "source": [
    "%run main.py --nn -r -c --signal_region 'low-2J' \\\n",
    "             --train_even --balanced -1 \\\n",
    "             --n_hidden_layers 5 --n_nodes 300 \\\n",
    "             --lr 1e-5 --batch_size 32 --epochs 1000 \\\n",
    "             --dropout 0. --L1 0. --L2 1e-3 \n",
    "             #--load_pretrained_model\n",
    "             #--doGridSearchCV"
   ]
  },
  {
   "cell_type": "code",
   "execution_count": null,
   "metadata": {
    "scrolled": true
   },
   "outputs": [],
   "source": [
    "%run main.py --nn -r --signal_region 'low-2J' \\\n",
    "             --train_odd --balanced 1 \\\n",
    "             --n_hidden_layers 5 --n_nodes 50 \\\n",
    "             --lr 1e-5 --batch_size 32 --epochs 1000 \\\n",
    "             --dropout 0.0 --L1 0. --L2 1e-3 \n",
    "             #--load_pretrained_model\n",
    "             #--doGridSearchCV"
   ]
  },
  {
   "cell_type": "code",
   "execution_count": null,
   "metadata": {
    "scrolled": true
   },
   "outputs": [],
   "source": [
    "%run main.py --nn -r --signal_region 'low-3J+' \\\n",
    "             --train_even --balanced 1 \\\n",
    "             --n_hidden_layers 5 --n_nodes 50 \\\n",
    "             --lr 1e-5 --batch_size 32 --epochs 1000 \\\n",
    "             --dropout 0.0 --L1 0. --L2 1e-3 \n",
    "             #--load_pretrained_model\n",
    "             #--doGridSearchCV"
   ]
  },
  {
   "cell_type": "code",
   "execution_count": null,
   "metadata": {
    "scrolled": true
   },
   "outputs": [],
   "source": [
    "%run main.py --nn -r --signal_region 'low-3J+' \\\n",
    "             --train_odd --balanced 1 \\\n",
    "             --n_hidden_layers 5 --n_nodes 50 \\\n",
    "             --lr 1e-5 --batch_size 32 --epochs 1000 \\\n",
    "             --dropout 0.0 --L1 0. --L2 1e-3 \n",
    "             #--load_pretrained_model\n",
    "             #--doGridSearchCV"
   ]
  },
  {
   "cell_type": "markdown",
   "metadata": {},
   "source": [
    "## SR-int"
   ]
  },
  {
   "cell_type": "code",
   "execution_count": null,
   "metadata": {
    "scrolled": true
   },
   "outputs": [],
   "source": [
    "%run main.py --nn -r --signal_region 'int-2J' \\\n",
    "             --train_even --balanced 1 \\\n",
    "             --n_hidden_layers 5 --n_nodes 300 \\\n",
    "             --lr 1e-4 --batch_size 32 --epochs 1000 \\\n",
    "             --dropout 0.3 --L1 0. --L2 1e-5 \n",
    "             #--load_pretrained_model\n",
    "             #--doGridSearchCV"
   ]
  },
  {
   "cell_type": "markdown",
   "metadata": {},
   "source": [
    "## SR-high"
   ]
  },
  {
   "cell_type": "code",
   "execution_count": null,
   "metadata": {
    "scrolled": true
   },
   "outputs": [],
   "source": [
    "%run main.py --nn -r -w --signal_region 'high-2J' \\\n",
    "             --train_even --balanced 1 \\\n",
    "             --n_hidden_layers 5 --n_nodes 300 \\\n",
    "             --lr 1e-4 --batch_size 32 --epochs 1000 \\\n",
    "             --dropout 0.3 --L1 0. --L2 1e-5 \n",
    "             #--load_pretrained_model\n",
    "             #--doGridSearchCV"
   ]
  },
  {
   "cell_type": "markdown",
   "metadata": {},
   "source": [
    "## Plot validation curve\n",
    "\n",
    "Read pandas DataFrame from HDF5, then train model and plot performance as function of hyperparameter values"
   ]
  },
  {
   "cell_type": "code",
   "execution_count": null,
   "metadata": {
    "scrolled": true
   },
   "outputs": [],
   "source": [
    "%run main.py -r -w -s 'low' --nn --train_even --plot_validation_curve --dropout 0. --n_hidden_layers 1 --n_nodes 20 --batch_size 100 -B 85445 -S 85445"
   ]
  },
  {
   "cell_type": "markdown",
   "metadata": {},
   "source": [
    "## Plot learning curve\n",
    "\n",
    "Read pandas DataFrame from HDF5, then train model and plot performance as function of number of training events"
   ]
  },
  {
   "cell_type": "code",
   "execution_count": null,
   "metadata": {
    "scrolled": false
   },
   "outputs": [],
   "source": [
    "%run main.py -r -w -s 'low' --nn --train_even --plot_learning_curve"
   ]
  },
  {
   "cell_type": "markdown",
   "metadata": {},
   "source": [
    "# Test area"
   ]
  },
  {
   "cell_type": "code",
   "execution_count": null,
   "metadata": {
    "scrolled": true
   },
   "outputs": [],
   "source": [
    "import pandas as pd"
   ]
  }
 ],
 "metadata": {
  "kernelspec": {
   "display_name": "Python 2",
   "language": "python",
   "name": "python2"
  },
  "language_info": {
   "codemirror_mode": {
    "name": "ipython",
    "version": 2
   },
   "file_extension": ".py",
   "mimetype": "text/x-python",
   "name": "python",
   "nbconvert_exporter": "python",
   "pygments_lexer": "ipython2",
   "version": "2.7.16"
  },
  "toc": {
   "base_numbering": 1,
   "nav_menu": {},
   "number_sections": true,
   "sideBar": true,
   "skip_h1_title": false,
   "title_cell": "Table of Contents",
   "title_sidebar": "Contents",
   "toc_cell": false,
   "toc_position": {},
   "toc_section_display": true,
   "toc_window_display": false
  }
 },
 "nbformat": 4,
 "nbformat_minor": 2
}
