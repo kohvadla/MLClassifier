{
 "cells": [
  {
   "cell_type": "code",
   "execution_count": 2,
   "metadata": {},
   "outputs": [],
   "source": [
    "import h5py\n",
    "import numpy as np"
   ]
  },
  {
   "cell_type": "code",
   "execution_count": 4,
   "metadata": {},
   "outputs": [],
   "source": [
    "f = h5py.File('/eos/user/k/kvadla/ntuples/hdf5/SUSY2_Signal_mc16a/2L2J_flat_signal_C1N2_WZ_200_100.h5', 'r')"
   ]
  },
  {
   "cell_type": "code",
   "execution_count": 9,
   "metadata": {},
   "outputs": [
    {
     "data": {
      "text/plain": [
       "[u'FlatTree']"
      ]
     },
     "execution_count": 9,
     "metadata": {},
     "output_type": "execute_result"
    }
   ],
   "source": [
    "list(f.keys())"
   ]
  },
  {
   "cell_type": "code",
   "execution_count": 37,
   "metadata": {},
   "outputs": [
    {
     "data": {
      "text/plain": [
       "(5827,)"
      ]
     },
     "execution_count": 37,
     "metadata": {},
     "output_type": "execute_result"
    }
   ],
   "source": [
    "dset = f['FlatTree']\n",
    "dset.shape"
   ]
  },
  {
   "cell_type": "code",
   "execution_count": 20,
   "metadata": {},
   "outputs": [
    {
     "data": {
      "text/plain": [
       "dtype([('Ht30', '<f4'), ('METOverPtW', '<f4'), ('METOverPtZ', '<f4'), ('Ptll', '<f4'), ('Rjj', '<f4'), ('Rll', '<f4'), ('dPhiPjjMet', '<f4'), ('dPhiPllMet', '<f4'), ('eventWeights', '<f8'), ('jetPt1', '<f4'), ('jetPt2', '<f4'), ('lepPt1', '<f4'), ('lepPt2', '<f4'), ('met_Et', '<f4'), ('mjj', '<f4'), ('mll', '<f4'), ('mt2leplsp_0', '<f4'), ('nBJet20_MV2c10_FixedCutBEff_77', '<i4'), ('nJet30', '<i4')])"
      ]
     },
     "execution_count": 20,
     "metadata": {},
     "output_type": "execute_result"
    }
   ],
   "source": [
    "dset.dtype"
   ]
  },
  {
   "cell_type": "code",
   "execution_count": 14,
   "metadata": {},
   "outputs": [
    {
     "data": {
      "text/plain": [
       "['Ht30',\n",
       " 'METOverPtW',\n",
       " 'METOverPtZ',\n",
       " 'Ptll',\n",
       " 'Rjj',\n",
       " 'Rll',\n",
       " 'dPhiPjjMet',\n",
       " 'dPhiPllMet',\n",
       " 'eventWeights',\n",
       " 'jetPt1',\n",
       " 'jetPt2',\n",
       " 'lepPt1',\n",
       " 'lepPt2',\n",
       " 'met_Et',\n",
       " 'mjj',\n",
       " 'mll',\n",
       " 'mt2leplsp_0',\n",
       " 'nBJet20_MV2c10_FixedCutBEff_77',\n",
       " 'nJet30']"
      ]
     },
     "execution_count": 14,
     "metadata": {},
     "output_type": "execute_result"
    }
   ],
   "source": [
    "list(dset.dtype.names)"
   ]
  },
  {
   "cell_type": "code",
   "execution_count": 49,
   "metadata": {},
   "outputs": [
    {
     "data": {
      "text/plain": [
       "(5827, 19)"
      ]
     },
     "execution_count": 49,
     "metadata": {},
     "output_type": "execute_result"
    }
   ],
   "source": [
    "ndarray = np.array(dset[:].tolist())\n",
    "ndarray.shape"
   ]
  },
  {
   "cell_type": "code",
   "execution_count": 39,
   "metadata": {},
   "outputs": [
    {
     "data": {
      "text/plain": [
       "(5827,)"
      ]
     },
     "execution_count": 39,
     "metadata": {},
     "output_type": "execute_result"
    }
   ],
   "source": [
    "event_weights_array = np.array(dset['eventWeights'].tolist())\n",
    "event_weights_array.shape"
   ]
  },
  {
   "cell_type": "code",
   "execution_count": 31,
   "metadata": {},
   "outputs": [
    {
     "data": {
      "text/plain": [
       "19"
      ]
     },
     "execution_count": 31,
     "metadata": {},
     "output_type": "execute_result"
    }
   ],
   "source": [
    "features = list(dset.dtype.names)\n",
    "len(features)"
   ]
  },
  {
   "cell_type": "code",
   "execution_count": 60,
   "metadata": {},
   "outputs": [
    {
     "data": {
      "text/plain": [
       "array([ True,  True,  True,  True,  True,  True,  True,  True, False,\n",
       "        True,  True,  True,  True,  True,  True,  True,  True,  True,\n",
       "        True])"
      ]
     },
     "execution_count": 60,
     "metadata": {},
     "output_type": "execute_result"
    }
   ],
   "source": [
    "selected_features_mask = np.array([feature != 'eventWeights' for feature in features])\n",
    "selected_features_mask"
   ]
  },
  {
   "cell_type": "code",
   "execution_count": 57,
   "metadata": {},
   "outputs": [
    {
     "data": {
      "text/plain": [
       "array([ 2.20704529e+02,  1.56190246e-01,  1.59430578e-01,  1.31377075e+02,\n",
       "        2.04370356e+00,  1.86016142e+00, -2.70735312e+00,  7.16477454e-01,\n",
       "        2.87476227e-06,  1.21500511e+02,  9.92040100e+01,  1.30772354e+02,\n",
       "        2.25450764e+01,  2.09455242e+01,  2.02984207e+02,  9.36797638e+01,\n",
       "        1.83810768e+01,  0.00000000e+00,  2.00000000e+00])"
      ]
     },
     "execution_count": 57,
     "metadata": {},
     "output_type": "execute_result"
    }
   ],
   "source": [
    "ndarray[0]"
   ]
  },
  {
   "cell_type": "code",
   "execution_count": 61,
   "metadata": {},
   "outputs": [
    {
     "data": {
      "text/plain": [
       "(5827, 18)"
      ]
     },
     "execution_count": 61,
     "metadata": {},
     "output_type": "execute_result"
    }
   ],
   "source": [
    "selected_features = ndarray[:,selected_features_mask]\n",
    "selected_features.shape"
   ]
  },
  {
   "cell_type": "code",
   "execution_count": 62,
   "metadata": {},
   "outputs": [
    {
     "data": {
      "text/plain": [
       "array([ 2.20704529e+02,  1.56190246e-01,  1.59430578e-01,  1.31377075e+02,\n",
       "        2.04370356e+00,  1.86016142e+00, -2.70735312e+00,  7.16477454e-01,\n",
       "        1.21500511e+02,  9.92040100e+01,  1.30772354e+02,  2.25450764e+01,\n",
       "        2.09455242e+01,  2.02984207e+02,  9.36797638e+01,  1.83810768e+01,\n",
       "        0.00000000e+00,  2.00000000e+00])"
      ]
     },
     "execution_count": 62,
     "metadata": {},
     "output_type": "execute_result"
    }
   ],
   "source": [
    "selected_features[0]"
   ]
  },
  {
   "cell_type": "code",
   "execution_count": null,
   "metadata": {},
   "outputs": [],
   "source": [
    "f.close()"
   ]
  }
 ],
 "metadata": {
  "kernelspec": {
   "display_name": "Python 2",
   "language": "python",
   "name": "python2"
  },
  "language_info": {
   "codemirror_mode": {
    "name": "ipython",
    "version": 2
   },
   "file_extension": ".py",
   "mimetype": "text/x-python",
   "name": "python",
   "nbconvert_exporter": "python",
   "pygments_lexer": "ipython2",
   "version": "2.7.15"
  }
 },
 "nbformat": 4,
 "nbformat_minor": 2
}
