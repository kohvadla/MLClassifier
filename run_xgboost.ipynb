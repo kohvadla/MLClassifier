{
 "cells": [
  {
   "cell_type": "markdown",
   "metadata": {},
   "source": [
    "<tr>\n",
    "    <td> <img src=images/ATLAS-Logo-Ref-RGB.eps width=200> <td/>\n",
    "    <td> <img src=https://upload.wikimedia.org/wikipedia/commons/thumb/0/05/Scikit_learn_logo_small.svg/520px-Scikit_learn_logo_small.svg.png style=\"border:0px;margin:10px;float:left;width:150px;\"> <td/>\n",
    "    <td> <img src=https://devblogs.nvidia.com/wp-content/uploads/2017/08/xgboost358x230.png style=\"border:0px;margin:10px;float:left;width:150px;\"> <td/>\n",
    "<tr/>"
   ]
  },
  {
   "cell_type": "markdown",
   "metadata": {},
   "source": [
    "# Session startup\n",
    "In order to view plots in output cells on first execution in a session, run:"
   ]
  },
  {
   "cell_type": "code",
   "execution_count": null,
   "metadata": {
    "init_cell": true,
    "scrolled": true
   },
   "outputs": [],
   "source": [
    "%matplotlib inline\n",
    "import datetime\n",
    "print(\"Initialization done\", datetime.datetime.now().strftime('%H:%M:%S'))"
   ]
  },
  {
   "cell_type": "markdown",
   "metadata": {},
   "source": [
    "# Train classifiers\n",
    "\n",
    "Read pandas DataFrame from HDF5 file and do grid search for hyperparameters using k-fold cross-validation.\n",
    "Finally, train the classifier with the optimal hyperparameters.\n",
    "\n",
    "## SR-low"
   ]
  },
  {
   "cell_type": "code",
   "execution_count": null,
   "metadata": {
    "scrolled": true
   },
   "outputs": [],
   "source": [
    "%run main.py --xgboost -r --signal_region 'low-2J' \\\n",
    "             --train_even --balanced 1 \\\n",
    "             --max_depth 10 --n_estimators 1e3 --lr 1e-1 \\\n",
    "             --gamma 20 --min_child_weight 1 --max_delta_step 0 \\\n",
    "             --subsample 0.5 --colsample_bytree 0.5 --colsample_bylevel 1 --colsample_bynode 1 \\\n",
    "             --L1 0 --L2 1 \n",
    "             #--load_pretrained_model\n",
    "             #--multiclass \\\n",
    "             #--doGridSearchCV"
   ]
  },
  {
   "cell_type": "code",
   "execution_count": null,
   "metadata": {
    "scrolled": true
   },
   "outputs": [],
   "source": [
    "%run main.py --xgboost -r --signal_region 'low-2J' \\\n",
    "             --train_odd --balanced 1 \\\n",
    "             --max_depth 10 --n_estimators 1e3 --lr 1e-1 \\\n",
    "             --gamma 20 --min_child_weight 1 --max_delta_step 0 \\\n",
    "             --subsample 0.5 --colsample_bytree 0.5 --colsample_bylevel 1 --colsample_bynode 1 \\\n",
    "             --L1 0 --L2 1 \n",
    "             #--load_pretrained_model\n",
    "             #--multiclass \\\n",
    "             #--doGridSearchCV"
   ]
  },
  {
   "cell_type": "code",
   "execution_count": null,
   "metadata": {
    "scrolled": true
   },
   "outputs": [],
   "source": [
    "%run main.py --xgboost -r --signal_region 'low-3J+' \\\n",
    "             --train_even --balanced 1 \\\n",
    "             --max_depth 3 --n_estimators 1e3 --lr 1e-1 \\\n",
    "             --gamma 10 --min_child_weight 1 --max_delta_step 0 \\\n",
    "             --subsample 0.5 --colsample_bytree 0.5 --colsample_bylevel 1 --colsample_bynode 1 \\\n",
    "             --L1 0 --L2 1\n",
    "             #--load_pretrained_model\n",
    "             #--multiclass \\\n",
    "             #--doGridSearchCV"
   ]
  },
  {
   "cell_type": "code",
   "execution_count": null,
   "metadata": {},
   "outputs": [],
   "source": [
    "%run main.py --xgboost -r --signal_region 'low-3J+' \\\n",
    "             --train_odd --balanced 1 \\\n",
    "             --max_depth 3 --n_estimators 1e3 --lr 1e-1 \\\n",
    "             --gamma 10 --min_child_weight 1 --max_delta_step 0 \\\n",
    "             --subsample 0.5 --colsample_bytree 0.5 --colsample_bylevel 1 --colsample_bynode 1 \\\n",
    "             --L1 0 --L2 1\n",
    "             #--load_pretrained_model\n",
    "             #--multiclass \\\n",
    "             #--doGridSearchCV"
   ]
  },
  {
   "cell_type": "markdown",
   "metadata": {},
   "source": [
    "## SR-int"
   ]
  },
  {
   "cell_type": "code",
   "execution_count": null,
   "metadata": {
    "scrolled": true
   },
   "outputs": [],
   "source": [
    "%run main.py --xgboost -r --signal_region 'int-2J' \\\n",
    "             --train_even --balanced 1 \\\n",
    "             --max_depth 3 --n_estimators 1e3 --lr 1e-1 \\\n",
    "             --gamma 0 --min_child_weight 25 --max_delta_step 0 \\\n",
    "             --subsample 0.5 --colsample_bytree 0.5 --colsample_bylevel 1 --colsample_bynode 1 \n",
    "             #--load_pretrained_model\n",
    "             #--multiclass \\\n",
    "             #--doGridSearchCV"
   ]
  },
  {
   "cell_type": "markdown",
   "metadata": {},
   "source": [
    "## SR-high"
   ]
  },
  {
   "cell_type": "code",
   "execution_count": null,
   "metadata": {
    "scrolled": true
   },
   "outputs": [],
   "source": [
    "%run main.py --xgboost -r --signal_region 'high-2J' \\\n",
    "             --train_even --balanced 1 \\\n",
    "             --max_depth 6 --n_estimators 1e4 --lr 1e-1 \\\n",
    "             --gamma 5 --min_child_weight 1 --max_delta_step 0 \\\n",
    "             --subsample 0.5 --colsample_bytree 0.5 --colsample_bylevel 1 --colsample_bynode 1 \\\n",
    "             --L1 0 --L2 10\n",
    "             #--load_pretrained_model\n",
    "             #--multiclass \\\n",
    "             #--doGridSearchCV"
   ]
  },
  {
   "cell_type": "markdown",
   "metadata": {},
   "source": [
    "## Plot validation curve\n",
    "\n",
    "Read pandas DataFrame from HDF5, then train model and plot performance as function of hyperparameter values"
   ]
  },
  {
   "cell_type": "code",
   "execution_count": null,
   "metadata": {},
   "outputs": [],
   "source": [
    "%run main.py -r -w -s 'low' --xgboost --train_even --plot_validation_curve"
   ]
  },
  {
   "cell_type": "markdown",
   "metadata": {},
   "source": [
    "## Plot learning curve\n",
    "\n",
    "Read pandas DataFrame from HDF5, then train model and plot performance as function of number of training events"
   ]
  },
  {
   "cell_type": "code",
   "execution_count": null,
   "metadata": {
    "scrolled": false
   },
   "outputs": [],
   "source": [
    "%run main.py -r -w -s 'low' --xgboost --train_even --plot_learning_curve"
   ]
  },
  {
   "cell_type": "markdown",
   "metadata": {},
   "source": [
    "# Test area"
   ]
  },
  {
   "cell_type": "code",
   "execution_count": null,
   "metadata": {
    "scrolled": true
   },
   "outputs": [],
   "source": [
    "import pandas as pd"
   ]
  }
 ],
 "metadata": {
  "kernelspec": {
   "display_name": "Python 2",
   "language": "python",
   "name": "python2"
  },
  "language_info": {
   "codemirror_mode": {
    "name": "ipython",
    "version": 2
   },
   "file_extension": ".py",
   "mimetype": "text/x-python",
   "name": "python",
   "nbconvert_exporter": "python",
   "pygments_lexer": "ipython2",
   "version": "2.7.16"
  },
  "toc": {
   "base_numbering": 1,
   "nav_menu": {},
   "number_sections": true,
   "sideBar": true,
   "skip_h1_title": false,
   "title_cell": "Table of Contents",
   "title_sidebar": "Contents",
   "toc_cell": false,
   "toc_position": {},
   "toc_section_display": true,
   "toc_window_display": false
  }
 },
 "nbformat": 4,
 "nbformat_minor": 2
}
