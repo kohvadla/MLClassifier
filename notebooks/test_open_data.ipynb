{
 "cells": [
  {
   "cell_type": "code",
   "execution_count": null,
   "metadata": {},
   "outputs": [],
   "source": [
    "import uproot\n",
    "import pandas as pd"
   ]
  },
  {
   "cell_type": "code",
   "execution_count": null,
   "metadata": {},
   "outputs": [],
   "source": [
    "uproot.open(\"/eos/user/k/kvadla/OpenData/2lep/Data/data16.periodA-D.root\")[\"mini\"].keys()\n",
    "#uproot.open(\"/eos/user/k/kvadla/OpenData/2lep/MC/BSM_Signal_Samples/mc15.MGPy8EG.C1N2_WZ_2L2J.root\")[\"mini\"].keys()"
   ]
  },
  {
   "cell_type": "code",
   "execution_count": null,
   "metadata": {},
   "outputs": [],
   "source": [
    "l_keys = uproot.open(\"/eos/user/k/kvadla/OpenData/2lep/Data/data16.periodA-D.root\")[\"mini\"].keys()\n",
    "#l_keys = uproot.open(\"/eos/user/k/kvadla/OpenData/2lep/MC/BSM_Signal_Samples/mc15.MGPy8EG.C1N2_WZ_2L2J.root\")[\"mini\"].keys()\n",
    "len(l_keys)"
   ]
  },
  {
   "cell_type": "code",
   "execution_count": null,
   "metadata": {},
   "outputs": [],
   "source": [
    "tree = uproot.open(\"/eos/user/k/kvadla/OpenData/2lep/Data/data16.periodA-D.root\")[\"mini\"]\n",
    "#tree = uproot.open(\"/eos/user/k/kvadla/OpenData/2lep/MC/BSM_Signal_Samples/mc15.MGPy8EG.C1N2_WZ_2L2J.root\")[\"mini\"]\n",
    "tree"
   ]
  },
  {
   "cell_type": "code",
   "execution_count": null,
   "metadata": {
    "scrolled": true
   },
   "outputs": [],
   "source": [
    "df_flat = tree.pandas.df(entrystart=None, entrystop=100, flatten=None)\n",
    "df_flat"
   ]
  },
  {
   "cell_type": "code",
   "execution_count": null,
   "metadata": {
    "scrolled": true
   },
   "outputs": [],
   "source": [
    "l_cuts_presel = [\"trigE | trigM\", \"lep_n >= 2\", \"jet_n >= 2\"]\n",
    "df_flat = df_flat.query(\"&\".join(l_cuts_presel))\n",
    "df_flat"
   ]
  },
  {
   "cell_type": "code",
   "execution_count": null,
   "metadata": {
    "scrolled": true
   },
   "outputs": [],
   "source": [
    "tree.pandas.df(branches=\"jet_[!t]*\", entrystart=None, entrystop=100, flatten=True)"
   ]
  },
  {
   "cell_type": "code",
   "execution_count": null,
   "metadata": {
    "scrolled": true
   },
   "outputs": [],
   "source": [
    "df_jet = tree.pandas.df(branches=\"/jet_(?!tru).*/i\", entrystart=None, entrystop=100, flatten=True)\n",
    "#df_jet = tree.pandas.df(branches=\"jet*\", entrystart=None, entrystop=100, flatten=True)\n",
    "df_jet = df_jet.loc[:,\"jet_pt\":]\n",
    "#df_jet.unstack()\n",
    "df_jet"
   ]
  },
  {
   "cell_type": "code",
   "execution_count": null,
   "metadata": {
    "scrolled": true
   },
   "outputs": [],
   "source": [
    "l_cuts_jet = [\"jet_pt > 30e3\", \"abs(jet_eta) < 2.8\"] \n",
    "l_cuts_bjet = [\"jet_MV2c10 < 0.6459\"] # 77% WP: 0.6459; 85% WP: 0.1758\n",
    "df_jet = df_jet.astype({\"jet_eta\":float})\n",
    "df_jet = df_jet.query(\"&\".join(l_cuts_jet + l_cuts_bjet))\n",
    "df_jet"
   ]
  },
  {
   "cell_type": "code",
   "execution_count": null,
   "metadata": {
    "scrolled": true
   },
   "outputs": [],
   "source": [
    "n_jet_sig = df_jet.groupby(level=0).size().values\n",
    "df_jet = df_jet.unstack()\n",
    "df_jet = df_jet[n_jet_sig == 2]\n",
    "df_jet"
   ]
  },
  {
   "cell_type": "code",
   "execution_count": null,
   "metadata": {
    "scrolled": true
   },
   "outputs": [],
   "source": [
    "df_jet = df_jet.stack()\n",
    "df_jet"
   ]
  },
  {
   "cell_type": "code",
   "execution_count": null,
   "metadata": {
    "scrolled": true
   },
   "outputs": [],
   "source": [
    "df_jet[\"subindex\"] = df_jet.groupby(level=0).apply(lambda x : x.sort_values(\"jet_pt\", ascending=False)).groupby(level=0).cumcount()\n",
    "df_jet[\"subindex\"]"
   ]
  },
  {
   "cell_type": "code",
   "execution_count": null,
   "metadata": {
    "scrolled": true
   },
   "outputs": [],
   "source": [
    "df_jet = df_jet.set_index(\"subindex\", append=True)\n",
    "df_jet"
   ]
  },
  {
   "cell_type": "code",
   "execution_count": null,
   "metadata": {
    "scrolled": true
   },
   "outputs": [],
   "source": [
    "df_jet = df_jet.reset_index(level=\"subentry\").drop(\"subentry\", axis=1)\n",
    "df_jet"
   ]
  },
  {
   "cell_type": "code",
   "execution_count": null,
   "metadata": {
    "scrolled": true
   },
   "outputs": [],
   "source": [
    "df_jet = df_jet.unstack(level=\"subindex\")\n",
    "df_jet"
   ]
  },
  {
   "cell_type": "code",
   "execution_count": null,
   "metadata": {},
   "outputs": [],
   "source": [
    "df_jet.columns = [ col[0] + str(col[1]+1) for col in df_jet.columns.values]\n",
    "df_jet.columns"
   ]
  },
  {
   "cell_type": "code",
   "execution_count": null,
   "metadata": {
    "scrolled": true
   },
   "outputs": [],
   "source": [
    "df_jet"
   ]
  },
  {
   "cell_type": "code",
   "execution_count": null,
   "metadata": {},
   "outputs": [],
   "source": [
    "from ROOT import TLorentzVector\n",
    "def invariantMass(l_4vector1, l_4vector2):\n",
    "    tlv1 = TLorentzVector()\n",
    "    tlv2 = TLorentzVector()\n",
    "    tlv1.SetPtEtaPhiE(l_4vector1[0], l_4vector1[1], l_4vector1[2], l_4vector1[3])\n",
    "    tlv2.SetPtEtaPhiE(l_4vector2[0], l_4vector2[1], l_4vector2[2], l_4vector2[3])\n",
    "    return (tlv1+tlv2).M()"
   ]
  },
  {
   "cell_type": "code",
   "execution_count": null,
   "metadata": {
    "scrolled": true
   },
   "outputs": [],
   "source": [
    "df_jet['mjj'] = df_jet.apply(lambda x: invariantMass([x.jet_pt1, x.jet_eta1, x.jet_phi1, x.jet_E1], [x.jet_pt2, x.jet_eta2, x.jet_phi2, x.jet_E2]), axis=1)\n",
    "df_jet"
   ]
  },
  {
   "cell_type": "code",
   "execution_count": null,
   "metadata": {
    "scrolled": true
   },
   "outputs": [],
   "source": [
    "df_flat = pd.concat([df_flat, df_jet], axis=1, sort=False)\n",
    "df_flat"
   ]
  },
  {
   "cell_type": "code",
   "execution_count": null,
   "metadata": {
    "scrolled": true
   },
   "outputs": [],
   "source": [
    "df_lep = tree.pandas.df(branches=\"/lep_(?!tru).*/i\", entrystart=None, entrystop=100, flatten=True)\n",
    "df_lep = df_lep.loc[:,\"lep_pt\":]\n",
    "df_lep"
   ]
  },
  {
   "cell_type": "code",
   "execution_count": null,
   "metadata": {
    "scrolled": true
   },
   "outputs": [],
   "source": [
    "l_cuts_lep = [\"lep_pt > 25e3\",\n",
    "              \"((lep_type == 11) & (abs(lep_eta) < 2.47)) | ((lep_type == 13) & (abs(lep_eta) < 2.4))\"]\n",
    "df_lep = df_lep.query(\" & \".join(l_cuts_lep))\n",
    "df_lep"
   ]
  },
  {
   "cell_type": "code",
   "execution_count": null,
   "metadata": {
    "scrolled": true
   },
   "outputs": [],
   "source": [
    "df_lep = df_lep.unstack()\n",
    "df_lep"
   ]
  },
  {
   "cell_type": "code",
   "execution_count": null,
   "metadata": {
    "scrolled": true
   },
   "outputs": [],
   "source": [
    "df_lep = df_lep[n_lep_sig == 2]\n",
    "df_lep"
   ]
  },
  {
   "cell_type": "code",
   "execution_count": null,
   "metadata": {
    "scrolled": true
   },
   "outputs": [],
   "source": [
    "df_lep = df_lep.stack()\n",
    "df_lep"
   ]
  },
  {
   "cell_type": "code",
   "execution_count": null,
   "metadata": {
    "scrolled": true
   },
   "outputs": [],
   "source": [
    "df_lep_sorted = df_lep.groupby(level=0).apply(lambda x : x.sort_values(\"lep_pt\", ascending=False))\n",
    "df_lep_sorted = df_lep_sorted.reset_index(level=0).drop(\"entry\", axis=1)\n",
    "df_lep[\"subindex\"] = df_lep_sorted.groupby(level=0).cumcount()\n",
    "df_lep = df_lep.set_index(\"subindex\", append=True)\n",
    "df_lep = df_lep.reset_index(level=\"subentry\").drop(\"subentry\", axis=1)\n",
    "df_lep = df_lep.unstack(level=\"subindex\")\n",
    "df_lep"
   ]
  },
  {
   "cell_type": "code",
   "execution_count": null,
   "metadata": {},
   "outputs": [],
   "source": [
    "df_lep.columns = [col[0]+str(col[1]+1) for col in df_lep.columns.values]\n",
    "df_lep.columns"
   ]
  },
  {
   "cell_type": "code",
   "execution_count": null,
   "metadata": {
    "scrolled": true
   },
   "outputs": [],
   "source": [
    "df_lep"
   ]
  },
  {
   "cell_type": "code",
   "execution_count": null,
   "metadata": {
    "scrolled": true
   },
   "outputs": [],
   "source": [
    "l_cuts_SFOS = [\"lep_type1 == lep_type2\", \"lep_charge1 != lep_charge2\"]\n",
    "df_lep = df_lep.query(\"&\".join(l_cuts_SFOS))\n",
    "df_lep"
   ]
  },
  {
   "cell_type": "code",
   "execution_count": null,
   "metadata": {
    "scrolled": true
   },
   "outputs": [],
   "source": [
    "df_flat = pd.concat([df_flat, df_lep], axis=1, sort=False)\n",
    "df_flat"
   ]
  },
  {
   "cell_type": "code",
   "execution_count": null,
   "metadata": {
    "scrolled": true
   },
   "outputs": [],
   "source": [
    "df_flat.dropna(axis='index', inplace=True)\n",
    "df_flat"
   ]
  },
  {
   "cell_type": "code",
   "execution_count": null,
   "metadata": {},
   "outputs": [],
   "source": [
    "df_flat.values[0]*1"
   ]
  },
  {
   "cell_type": "code",
   "execution_count": null,
   "metadata": {
    "scrolled": true
   },
   "outputs": [],
   "source": [
    "l_features = [\"lep_pt1\", \"lep_eta1\", \"lep_phi1\", \"lep_E1\",\n",
    "              \"lep_pt2\", \"lep_eta2\", \"lep_phi2\", \"lep_E2\",\n",
    "              \"jet_pt1\", \"jet_eta1\", \"jet_phi1\", \"jet_E1\",\n",
    "              \"jet_pt2\", \"jet_eta2\", \"jet_phi2\", \"jet_E2\",\n",
    "              \"met_et\", \"met_phi\"]\n",
    "df_flat_feat = df_flat[l_features]\n",
    "df_flat_feat"
   ]
  },
  {
   "cell_type": "code",
   "execution_count": null,
   "metadata": {
    "scrolled": true
   },
   "outputs": [],
   "source": [
    "l_eventweights = ['mcWeight',\n",
    "                  'scaleFactor_PILEUP',\n",
    "                  'scaleFactor_ELE',\n",
    "                  'scaleFactor_MUON',\n",
    "                  'scaleFactor_BTAG',\n",
    "                  'scaleFactor_LepTRIGGER']\n",
    "df_flat[l_eventweights]"
   ]
  },
  {
   "cell_type": "code",
   "execution_count": null,
   "metadata": {
    "scrolled": true
   },
   "outputs": [],
   "source": [
    "s_eventweights = df_flat.scaleFactor_PILEUP * df_flat.scaleFactor_ELE * df_flat.scaleFactor_MUON * df_flat.scaleFactor_BTAG * df_flat.scaleFactor_LepTRIGGER\n",
    "s_eventweights"
   ]
  },
  {
   "cell_type": "code",
   "execution_count": null,
   "metadata": {},
   "outputs": [],
   "source": [
    "import numpy as np"
   ]
  },
  {
   "cell_type": "code",
   "execution_count": null,
   "metadata": {
    "scrolled": true
   },
   "outputs": [],
   "source": [
    "s_ew = pd.Series(1, index=np.arange(len(df_flat)))\n",
    "s_ew"
   ]
  },
  {
   "cell_type": "code",
   "execution_count": null,
   "metadata": {
    "scrolled": true
   },
   "outputs": [],
   "source": [
    "df_flat[l_eventweights].agg('prod', axis='columns')"
   ]
  },
  {
   "cell_type": "code",
   "execution_count": null,
   "metadata": {
    "scrolled": true
   },
   "outputs": [],
   "source": [
    "from sklearn.utils import shuffle\n",
    "df_flat = shuffle(df_flat)\n",
    "df_flat"
   ]
  },
  {
   "cell_type": "code",
   "execution_count": null,
   "metadata": {},
   "outputs": [],
   "source": [
    "ndarr_feat = df_flat.values*1\n",
    "ndarr_feat"
   ]
  },
  {
   "cell_type": "code",
   "execution_count": null,
   "metadata": {},
   "outputs": [],
   "source": [
    "ndarr_feat.shape"
   ]
  },
  {
   "cell_type": "code",
   "execution_count": null,
   "metadata": {},
   "outputs": [],
   "source": [
    "len(ndarr_feat)"
   ]
  },
  {
   "cell_type": "code",
   "execution_count": null,
   "metadata": {},
   "outputs": [],
   "source": [
    "y_zeros = np.zeros(len(ndarr_feat))\n",
    "y_ones = np.ones(len(ndarr_feat))\n",
    "y = np.concatenate((y_zeros, y_ones), axis=0)\n",
    "y.shape"
   ]
  },
  {
   "cell_type": "code",
   "execution_count": null,
   "metadata": {},
   "outputs": [],
   "source": [
    "store = pd.HDFStore('test.h5')"
   ]
  },
  {
   "cell_type": "code",
   "execution_count": null,
   "metadata": {},
   "outputs": [],
   "source": [
    "store['test_key'] = df_flat"
   ]
  },
  {
   "cell_type": "code",
   "execution_count": null,
   "metadata": {},
   "outputs": [],
   "source": [
    "store"
   ]
  },
  {
   "cell_type": "code",
   "execution_count": null,
   "metadata": {},
   "outputs": [],
   "source": [
    "store.keys()"
   ]
  },
  {
   "cell_type": "code",
   "execution_count": null,
   "metadata": {
    "scrolled": true
   },
   "outputs": [],
   "source": [
    "df_test = store['test_key']\n",
    "df_test"
   ]
  },
  {
   "cell_type": "code",
   "execution_count": null,
   "metadata": {},
   "outputs": [],
   "source": [
    "len(df_flat.query('jet_n == 2').loc[:,'channelNumber'])"
   ]
  },
  {
   "cell_type": "code",
   "execution_count": null,
   "metadata": {},
   "outputs": [],
   "source": [
    "type(df_flat[\"channelNumber\"][0])"
   ]
  },
  {
   "cell_type": "code",
   "execution_count": null,
   "metadata": {},
   "outputs": [],
   "source": [
    "type(np.int32(infos[\"chargino500-neutralino2L2J100\"][\"DSID\"]))"
   ]
  },
  {
   "cell_type": "code",
   "execution_count": null,
   "metadata": {},
   "outputs": [],
   "source": [
    "infos[\"chargino500-neutralino2L2J100\"][\"DSID\"]"
   ]
  },
  {
   "cell_type": "code",
   "execution_count": null,
   "metadata": {},
   "outputs": [],
   "source": [
    "np.int32(392302) in df_flat[\"channelNumber\"]"
   ]
  },
  {
   "cell_type": "code",
   "execution_count": null,
   "metadata": {},
   "outputs": [],
   "source": [
    "type(np.int32(1))"
   ]
  },
  {
   "cell_type": "code",
   "execution_count": null,
   "metadata": {
    "scrolled": true
   },
   "outputs": [],
   "source": [
    "df_flat[\"channelNumber\"]"
   ]
  },
  {
   "cell_type": "code",
   "execution_count": null,
   "metadata": {},
   "outputs": [],
   "source": [
    "392302 in set(df_flat[\"channelNumber\"])"
   ]
  },
  {
   "cell_type": "code",
   "execution_count": null,
   "metadata": {},
   "outputs": [],
   "source": [
    "import numpy as np\n",
    "infos[\"chargino500-neutralino2L2J100\"][\"DSID\"] in set(df_flat[\"channelNumber\"])"
   ]
  },
  {
   "cell_type": "code",
   "execution_count": null,
   "metadata": {},
   "outputs": [],
   "source": [
    "import pandas as pd"
   ]
  },
  {
   "cell_type": "code",
   "execution_count": null,
   "metadata": {},
   "outputs": [],
   "source": [
    "pd.Series([1]*10)"
   ]
  },
  {
   "cell_type": "code",
   "execution_count": null,
   "metadata": {},
   "outputs": [],
   "source": [
    "from infofile import infos"
   ]
  },
  {
   "cell_type": "code",
   "execution_count": null,
   "metadata": {
    "scrolled": true
   },
   "outputs": [],
   "source": [
    "info = {} \n",
    "for key in infos.keys(): \n",
    "        ID = infos[key]['DSID']\n",
    "        info[ID] = {} \n",
    "        info[ID]['xsec'] = infos[key]['xsec'] \n",
    "        info[ID]['sumw'] = infos[key]['sumw'] \n",
    "        info[ID]['events'] = infos[key]['events']\n",
    "infos"
   ]
  },
  {
   "cell_type": "code",
   "execution_count": null,
   "metadata": {},
   "outputs": [],
   "source": [
    "10.6*0.025481788*1e3/10419.6442093"
   ]
  },
  {
   "cell_type": "code",
   "execution_count": null,
   "metadata": {
    "scrolled": true
   },
   "outputs": [],
   "source": [
    "import pandas as pd\n",
    "df_info = pd.DataFrame(info).T\n",
    "df_info"
   ]
  },
  {
   "cell_type": "code",
   "execution_count": null,
   "metadata": {
    "scrolled": true
   },
   "outputs": [],
   "source": [
    "import numpy as np\n",
    "df_test = pd.DataFrame(data=np.arange(9).reshape((3,3)), columns=[\"A\", \"B\", \"C\"])\n",
    "df_test"
   ]
  },
  {
   "cell_type": "code",
   "execution_count": null,
   "metadata": {},
   "outputs": [],
   "source": [
    "df_test.loc[:1,\"B\"] = 10\n",
    "df_test"
   ]
  },
  {
   "cell_type": "code",
   "execution_count": null,
   "metadata": {},
   "outputs": [],
   "source": [
    "df_test[\"index\"] = df_test.index\n",
    "df_test"
   ]
  },
  {
   "cell_type": "code",
   "execution_count": null,
   "metadata": {},
   "outputs": [],
   "source": [
    "df_test = df_test.set_index(\"B\")\n",
    "df_test"
   ]
  },
  {
   "cell_type": "code",
   "execution_count": null,
   "metadata": {},
   "outputs": [],
   "source": [
    "df_test = pd.concat([df_test, pd.DataFrame(columns=[\"events\", \"sumw\", \"xsec\"])], axis=1)\n",
    "df_test"
   ]
  },
  {
   "cell_type": "code",
   "execution_count": null,
   "metadata": {},
   "outputs": [],
   "source": [
    "df_test.xsec.isna()"
   ]
  },
  {
   "cell_type": "code",
   "execution_count": null,
   "metadata": {},
   "outputs": [],
   "source": [
    "df_test.index"
   ]
  },
  {
   "cell_type": "code",
   "execution_count": null,
   "metadata": {
    "scrolled": true
   },
   "outputs": [],
   "source": [
    "df_test.loc[10, [\"events\", \"sumw\", \"xsec\"]] = [1, 2, 3]\n",
    "df_test"
   ]
  },
  {
   "cell_type": "code",
   "execution_count": null,
   "metadata": {
    "scrolled": true
   },
   "outputs": [],
   "source": [
    "df_test.insert(1, \"B\", df_test.index)\n",
    "df_test"
   ]
  },
  {
   "cell_type": "code",
   "execution_count": null,
   "metadata": {},
   "outputs": [],
   "source": [
    "df_test = df_test.set_index(\"index\")\n",
    "df_test"
   ]
  },
  {
   "cell_type": "code",
   "execution_count": null,
   "metadata": {},
   "outputs": [],
   "source": [
    "df_test[\"B/C\"] = df_test[\"B\"]/df_test[\"C\"]\n",
    "df_test"
   ]
  },
  {
   "cell_type": "code",
   "execution_count": null,
   "metadata": {},
   "outputs": [],
   "source": [
    "s_test = pd.Series([3, 2, 1], index=[10, 10, 7])\n",
    "s_test"
   ]
  },
  {
   "cell_type": "code",
   "execution_count": null,
   "metadata": {},
   "outputs": [],
   "source": [
    "df_test[\"series\"] = s_test\n",
    "df_test"
   ]
  },
  {
   "cell_type": "code",
   "execution_count": null,
   "metadata": {
    "scrolled": true
   },
   "outputs": [],
   "source": [
    "df_test.loc[5, [\"events\", \"sumw\", \"xsec\"]] = [1, 1, 1]\n",
    "df_test"
   ]
  },
  {
   "cell_type": "code",
   "execution_count": null,
   "metadata": {},
   "outputs": [],
   "source": [
    "i = None\n",
    "1 is None"
   ]
  },
  {
   "cell_type": "code",
   "execution_count": null,
   "metadata": {},
   "outputs": [],
   "source": [
    "j = 1\n",
    "1 is j"
   ]
  }
 ],
 "metadata": {
  "kernelspec": {
   "display_name": "Python 2",
   "language": "python",
   "name": "python2"
  },
  "language_info": {
   "codemirror_mode": {
    "name": "ipython",
    "version": 2
   },
   "file_extension": ".py",
   "mimetype": "text/x-python",
   "name": "python",
   "nbconvert_exporter": "python",
   "pygments_lexer": "ipython2",
   "version": "2.7.16"
  },
  "toc": {
   "base_numbering": 1,
   "nav_menu": {},
   "number_sections": true,
   "sideBar": true,
   "skip_h1_title": false,
   "title_cell": "Table of Contents",
   "title_sidebar": "Contents",
   "toc_cell": false,
   "toc_position": {},
   "toc_section_display": true,
   "toc_window_display": false
  }
 },
 "nbformat": 4,
 "nbformat_minor": 2
}
