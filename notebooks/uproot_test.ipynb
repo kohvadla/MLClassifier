{
 "cells": [
  {
   "cell_type": "code",
   "execution_count": null,
   "metadata": {},
   "outputs": [],
   "source": [
    "import uproot\n",
    "import pandas as pd"
   ]
  },
  {
   "cell_type": "code",
   "execution_count": null,
   "metadata": {
    "scrolled": true
   },
   "outputs": [],
   "source": [
    "uproot.open(\"/eos/user/k/kvadla/ntuples/histfitter/skim_slim_v1.6_atLeast2L2J_ext/SUSY2_Signal_mc16e/C1N2_WZ_200p0_100p0_2L2J_merged_processed.root\").keys()"
   ]
  },
  {
   "cell_type": "code",
   "execution_count": null,
   "metadata": {
    "scrolled": true
   },
   "outputs": [],
   "source": [
    "uproot.open(\"/eos/user/k/kvadla/ntuples/histfitter/skim_slim_v1.6_atLeast2L2J_ext/SUSY2_Signal_mc16e/C1N2_WZ_200p0_100p0_2L2J_merged_processed.root\")[\"C1N2_WZ_200p0_100p0_2L2J_NoSys\"].keys()"
   ]
  },
  {
   "cell_type": "code",
   "execution_count": null,
   "metadata": {
    "scrolled": true
   },
   "outputs": [],
   "source": [
    "tree = uproot.open(\"/eos/user/k/kvadla/ntuples/histfitter/skim_slim_v1.6_atLeast2L2J_ext/SUSY2_Signal_mc16e/C1N2_WZ_200p0_100p0_2L2J_merged_processed.root\")[\"C1N2_WZ_200p0_100p0_2L2J_NoSys\"]\n",
    "tree"
   ]
  },
  {
   "cell_type": "code",
   "execution_count": null,
   "metadata": {
    "scrolled": true
   },
   "outputs": [],
   "source": [
    "df_flat = tree.pandas.df(flatten=None)\n",
    "df_flat"
   ]
  },
  {
   "cell_type": "code",
   "execution_count": null,
   "metadata": {
    "scrolled": true
   },
   "outputs": [],
   "source": [
    "df_flat[ df_flat[\"nLep_base\"] >= 2 ] "
   ]
  },
  {
   "cell_type": "code",
   "execution_count": null,
   "metadata": {
    "scrolled": true
   },
   "outputs": [],
   "source": [
    "df_flat = df_flat[ (df_flat[\"nLep_base\"] == 2) & (df_flat[\"nLep_signal\"] == 2) & (df_flat[\"nJet30\"] >= 3)]\n",
    "df_flat"
   ]
  },
  {
   "cell_type": "code",
   "execution_count": null,
   "metadata": {
    "scrolled": true
   },
   "outputs": [],
   "source": [
    "df_jet = tree.pandas.df(branches=\"jet*\", flatten=True)\n",
    "df_jet"
   ]
  },
  {
   "cell_type": "code",
   "execution_count": null,
   "metadata": {
    "scrolled": true
   },
   "outputs": [],
   "source": [
    "df_jet = df_jet[df_jet.jetPt > 30]\n",
    "df_jet"
   ]
  },
  {
   "cell_type": "code",
   "execution_count": null,
   "metadata": {
    "scrolled": true
   },
   "outputs": [],
   "source": [
    "n_jet_sig = df_jet.groupby(level=0).size().values\n",
    "df_jet = df_jet.unstack()\n",
    "df_jet = df_jet[n_jet_sig >= 3]\n",
    "df_jet"
   ]
  },
  {
   "cell_type": "code",
   "execution_count": null,
   "metadata": {
    "scrolled": true
   },
   "outputs": [],
   "source": [
    "df_jet.dropna(axis='columns', inplace=True)\n",
    "df_jet"
   ]
  },
  {
   "cell_type": "code",
   "execution_count": null,
   "metadata": {
    "scrolled": true
   },
   "outputs": [],
   "source": [
    "df_jet = df_jet.stack().unstack()\n",
    "df_jet"
   ]
  },
  {
   "cell_type": "code",
   "execution_count": null,
   "metadata": {
    "scrolled": true
   },
   "outputs": [],
   "source": [
    "df_jet.columns.values"
   ]
  },
  {
   "cell_type": "code",
   "execution_count": null,
   "metadata": {},
   "outputs": [],
   "source": [
    "df_jet.columns = [col[0]+str(col[1]+1) for col in df_jet.columns.values]\n",
    "df_jet.columns"
   ]
  },
  {
   "cell_type": "code",
   "execution_count": null,
   "metadata": {
    "scrolled": true
   },
   "outputs": [],
   "source": [
    "df_jet"
   ]
  },
  {
   "cell_type": "code",
   "execution_count": null,
   "metadata": {
    "scrolled": true
   },
   "outputs": [],
   "source": [
    "df_jet.dropna(axis='columns', inplace=True)"
   ]
  },
  {
   "cell_type": "code",
   "execution_count": null,
   "metadata": {
    "scrolled": true
   },
   "outputs": [],
   "source": [
    "df_flat = pd.concat([df_flat, df_jet], axis=1, sort=False)\n",
    "df_flat"
   ]
  },
  {
   "cell_type": "code",
   "execution_count": null,
   "metadata": {
    "scrolled": true
   },
   "outputs": [],
   "source": [
    "df_flat.dropna(axis='index', inplace=True)\n",
    "df_flat"
   ]
  },
  {
   "cell_type": "code",
   "execution_count": null,
   "metadata": {
    "scrolled": true
   },
   "outputs": [],
   "source": [
    "df_lep = tree.pandas.df(branches=\"lep*\", flatten=True)\n",
    "df_lep = df_lep.loc[:,:\"lepM\"]\n",
    "df_lep"
   ]
  },
  {
   "cell_type": "code",
   "execution_count": null,
   "metadata": {
    "scrolled": true
   },
   "outputs": [],
   "source": [
    "df_lep = df_lep.unstack() #[[df_lep.unstack().loc[x,[\"lepPt\"]].count() == 2 for x in range(len(df_lep.unstack().index))]]\n",
    "df_lep"
   ]
  },
  {
   "cell_type": "code",
   "execution_count": null,
   "metadata": {
    "scrolled": true
   },
   "outputs": [],
   "source": [
    "#df_lep.dropna(axis='columns', inplace=True)\n",
    "df_lep = df_lep.stack()\n",
    "df_lep"
   ]
  },
  {
   "cell_type": "code",
   "execution_count": null,
   "metadata": {
    "scrolled": true
   },
   "outputs": [],
   "source": [
    "df_lep = df_lep[df_lep.lepPt > 25]\n",
    "df_lep"
   ]
  },
  {
   "cell_type": "code",
   "execution_count": null,
   "metadata": {
    "scrolled": true
   },
   "outputs": [],
   "source": [
    "n_lep_sig = df_lep.groupby(level=0).size().values\n",
    "df_lep = df_lep.unstack()\n",
    "df_lep = df_lep[n_lep_sig == 2]\n",
    "df_lep"
   ]
  },
  {
   "cell_type": "code",
   "execution_count": null,
   "metadata": {
    "scrolled": true
   },
   "outputs": [],
   "source": [
    "#df_lep = df_lep.unstack()\n",
    "df_lep = df_lep.stack().unstack() # remove all-NaN columns\n",
    "df_lep"
   ]
  },
  {
   "cell_type": "code",
   "execution_count": null,
   "metadata": {},
   "outputs": [],
   "source": [
    "df_lep.columns = [col[0]+str(col[1]+1) for col in df_lep.columns.values]\n",
    "df_lep.columns"
   ]
  },
  {
   "cell_type": "code",
   "execution_count": null,
   "metadata": {
    "scrolled": true
   },
   "outputs": [],
   "source": [
    "df_lep"
   ]
  },
  {
   "cell_type": "code",
   "execution_count": null,
   "metadata": {
    "scrolled": true
   },
   "outputs": [],
   "source": [
    "df_flat = pd.concat([df_flat, df_lep], axis=1, sort=False)\n",
    "df_flat"
   ]
  },
  {
   "cell_type": "code",
   "execution_count": null,
   "metadata": {
    "scrolled": true
   },
   "outputs": [],
   "source": [
    "df_flat.dropna(axis='index', inplace=True)\n",
    "df_flat"
   ]
  },
  {
   "cell_type": "code",
   "execution_count": null,
   "metadata": {},
   "outputs": [],
   "source": [
    "df_flat.values"
   ]
  },
  {
   "cell_type": "code",
   "execution_count": null,
   "metadata": {},
   "outputs": [],
   "source": [
    "string = \"\"\n",
    "if string:\n",
    "    print(\"String is not empty\")\n",
    "else:\n",
    "    print(\"String is empty\")"
   ]
  }
 ],
 "metadata": {
  "kernelspec": {
   "display_name": "Python 2",
   "language": "python",
   "name": "python2"
  },
  "language_info": {
   "codemirror_mode": {
    "name": "ipython",
    "version": 2
   },
   "file_extension": ".py",
   "mimetype": "text/x-python",
   "name": "python",
   "nbconvert_exporter": "python",
   "pygments_lexer": "ipython2",
   "version": "2.7.16"
  },
  "toc": {
   "base_numbering": 1,
   "nav_menu": {},
   "number_sections": true,
   "sideBar": true,
   "skip_h1_title": false,
   "title_cell": "Table of Contents",
   "title_sidebar": "Contents",
   "toc_cell": false,
   "toc_position": {},
   "toc_section_display": true,
   "toc_window_display": false
  }
 },
 "nbformat": 4,
 "nbformat_minor": 2
}
